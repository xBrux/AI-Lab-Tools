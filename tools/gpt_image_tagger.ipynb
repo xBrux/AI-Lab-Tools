{
 "cells": [
  {
   "cell_type": "markdown",
   "metadata": {},
   "source": [
    "### Step 1 : Set image folder."
   ]
  },
  {
   "cell_type": "code",
   "execution_count": 17,
   "metadata": {},
   "outputs": [],
   "source": [
    "# 👇 Use your own image folder path.\n",
    "image_folder_path = '../images'"
   ]
  },
  {
   "cell_type": "markdown",
   "metadata": {},
   "source": [
    "### Step 2 : Pre-process images."
   ]
  },
  {
   "cell_type": "code",
   "execution_count": 20,
   "metadata": {},
   "outputs": [
    {
     "name": "stdout",
     "output_type": "stream",
     "text": [
      "2 image(s) processed.\n"
     ]
    }
   ],
   "source": [
    "import os\n",
    "import base64\n",
    "from collections import namedtuple\n",
    "\n",
    "ImageDate = namedtuple('ImageDate', 'filename_without_extension extension base64_string caption')\n",
    "\n",
    "\n",
    "def convert_image_to_base64(image_path):\n",
    "    with open(image_path, \"rb\") as image_file:\n",
    "        encoded_string = base64.b64encode(image_file.read()).decode('utf-8')\n",
    "    return encoded_string\n",
    "\n",
    "def get_file_type(filename):\n",
    "    return os.path.splitext(filename)[1][1:]  # get file extension without dot\n",
    "\n",
    "def get_filename_without_extension(filename):\n",
    "    return os.path.splitext(filename)[0]  # get filename without extension\n",
    "\n",
    "def convert_images_in_folder(folder_path):\n",
    "    encoded_images = []\n",
    "    for filename in os.listdir(folder_path):\n",
    "        if filename.lower().endswith(('.png', '.jpg', '.jpeg', '.gif', '.bmp')):\n",
    "            file_path = os.path.join(folder_path, filename)\n",
    "            base64_string = convert_image_to_base64(file_path)\n",
    "            file_type = get_file_type(filename)\n",
    "            filename_without_extension = get_filename_without_extension(filename)\n",
    "            encoded_images.append(ImageDate(filename_without_extension, file_type, base64_string, \"\"))\n",
    "    return encoded_images\n",
    "\n",
    "base64_images = convert_images_in_folder(image_folder_path)\n",
    "\n",
    "# 🐞 uncomment to debug\n",
    "# for item in base64_images:\n",
    "#     print(item[0], item[1], item[2], item[3])\n",
    "\n",
    "print(f'{len(base64_images)} image(s) processed.')\n"
   ]
  },
  {
   "cell_type": "markdown",
   "metadata": {},
   "source": [
    "### Step 3 : Call Azure OpenAI services.\n",
    "\n",
    "❗️❗️ Don't foget to config your Azure OpenAI key:\n",
    "- Add `AZURE_OPENAI_API_KEY={your_azure_openai_key_here}` to `.env` file;\n",
    "- If it doesn't exist, create one in this project root folder."
   ]
  },
  {
   "cell_type": "code",
   "execution_count": 21,
   "metadata": {},
   "outputs": [
    {
     "name": "stdout",
     "output_type": "stream",
     "text": [
      "The image is showing the word \"IFBOX\" in bold, uppercase letters with a graphic of a blue square outlined in purple to the left of the text.\n",
      "The image is showing a futuristic scene with a large spacecraft positioned in the foreground. It appears to be parked or docked at a massive structure that might be a space station or depot. The spacecraft is predominantly white with orange accents and large engines. In the foreground, three figures in spacesuits are seen walking towards the spacecraft, and a small vehicle is parked to the side. The environment is depicted with a warm color palette, and the atmosphere has a hazy quality, with a bright source of light, possibly a sun, shining from the upper right corner. The overall mood is one of anticipation and adventure, probably in a science fiction setting.\n"
     ]
    }
   ],
   "source": [
    "from openai import AzureOpenAI\n",
    "from dotenv import load_dotenv\n",
    "import os\n",
    "\n",
    "load_dotenv()\n",
    "\n",
    "client = AzureOpenAI(\n",
    "    # https://learn.microsoft.com/en-us/azure/ai-services/openai/reference#rest-api-versioning\n",
    "    api_version=\"2023-07-01-preview\",\n",
    "    # https://learn.microsoft.com/en-us/azure/cognitive-services/openai/how-to/create-resource?pivots=web-portal#create-a-resource\n",
    "    azure_endpoint=\"https://openai-ifbox-ai.openai.azure.com\",\n",
    "    api_key=os.getenv(\"AZURE_OPENAI_API_KEY\"),\n",
    ")\n",
    "\n",
    "for item in base64_images:\n",
    "  completion = client.chat.completions.create(\n",
    "      model=\"gpt-4-vision-preview\",  # Your deployment name.\n",
    "      messages=[\n",
    "      {\n",
    "        \"role\": \"system\",\n",
    "        \n",
    "        \"content\": \n",
    "        # Edit this system message if needed.\n",
    "        \"\"\"\n",
    "        You are going to help people to describe the image.\n",
    "        You should always in english start with \"the image is showing\"      \n",
    "        \"\"\"\n",
    "      },\n",
    "      {\n",
    "        \"role\": \"user\",\n",
    "        \"content\": [\n",
    "          # {\n",
    "          #   \"type\": \"text\", \n",
    "          #   \"text\": \"What’s in this image?\"\n",
    "          # },\n",
    "          {\n",
    "            \"type\": \"image_url\",\n",
    "\n",
    "            # Using the image url.\n",
    "            # \"image_url\": { \"url\": \"https://ifbox.ai/static/brand.e18dbb5f.png\" },\n",
    "\n",
    "            # Using the base64 encoded image from the file.\n",
    "            \"image_url\": { \"url\": f\"data:image/{item.extension};base64,{item.base64_string}\" },\n",
    "          },\n",
    "        ],\n",
    "      }\n",
    "    ],\n",
    "    max_tokens=500,\n",
    "  )\n",
    "  print(completion.choices[0].message.content)"
   ]
  },
  {
   "cell_type": "markdown",
   "metadata": {},
   "source": [
    "### Step 4 : Post-process."
   ]
  },
  {
   "cell_type": "markdown",
   "metadata": {},
   "source": [
    "### Step 5 : Humun review."
   ]
  },
  {
   "cell_type": "code",
   "execution_count": 22,
   "metadata": {},
   "outputs": [
    {
     "name": "stdout",
     "output_type": "stream",
     "text": [
      "value1\n",
      "value2\n",
      "another value1\n",
      "another value2\n"
     ]
    },
    {
     "ename": "AttributeError",
     "evalue": "can't set attribute",
     "output_type": "error",
     "traceback": [
      "\u001b[0;31m---------------------------------------------------------------------------\u001b[0m",
      "\u001b[0;31mAttributeError\u001b[0m                            Traceback (most recent call last)",
      "Cell \u001b[0;32mIn[22], line 18\u001b[0m\n\u001b[1;32m     15\u001b[0m     \u001b[38;5;28mprint\u001b[39m(struct\u001b[38;5;241m.\u001b[39mfield1)  \u001b[38;5;66;03m# 使用点符号访问 field1\u001b[39;00m\n\u001b[1;32m     16\u001b[0m     \u001b[38;5;28mprint\u001b[39m(struct\u001b[38;5;241m.\u001b[39mfield2)  \u001b[38;5;66;03m# 使用点符号访问 field2\u001b[39;00m\n\u001b[0;32m---> 18\u001b[0m \u001b[43mobj1\u001b[49m\u001b[38;5;241;43m.\u001b[39;49m\u001b[43mfield3\u001b[49m \u001b[38;5;241m=\u001b[39m \u001b[38;5;124m\"\u001b[39m\u001b[38;5;124m123456\u001b[39m\u001b[38;5;124m\"\u001b[39m\n\u001b[1;32m     20\u001b[0m \u001b[38;5;28mprint\u001b[39m(obj1\u001b[38;5;241m.\u001b[39mfield3)\n",
      "\u001b[0;31mAttributeError\u001b[0m: can't set attribute"
     ]
    }
   ],
   "source": [
    "from collections import namedtuple\n",
    "\n",
    "# 定义命名元组\n",
    "MyStruct = namedtuple('MyStruct', 'field1 field2 field3')\n",
    "\n",
    "# 创建一些命名元组的实例\n",
    "obj1 = MyStruct(\"value1\", \"value2\", \"value3\")\n",
    "obj2 = MyStruct(\"another value1\", \"another value2\", \"another value3\")\n",
    "\n",
    "# 将这些对象放入数组\n",
    "my_struct_array = [obj1, obj2]\n",
    "\n",
    "# 访问数组中的对象字段\n",
    "for struct in my_struct_array:\n",
    "    print(struct.field1)  # 使用点符号访问 field1\n",
    "    print(struct.field2)  # 使用点符号访问 field2\n",
    "\n",
    "obj1.field3 = \"123456\"\n",
    "\n",
    "print(obj1.field3)"
   ]
  }
 ],
 "metadata": {
  "kernelspec": {
   "display_name": "ai-lab-tools",
   "language": "python",
   "name": "python3"
  },
  "language_info": {
   "codemirror_mode": {
    "name": "ipython",
    "version": 3
   },
   "file_extension": ".py",
   "mimetype": "text/x-python",
   "name": "python",
   "nbconvert_exporter": "python",
   "pygments_lexer": "ipython3",
   "version": "3.12.1"
  }
 },
 "nbformat": 4,
 "nbformat_minor": 2
}
