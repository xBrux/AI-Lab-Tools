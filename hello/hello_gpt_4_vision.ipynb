{
 "cells": [
  {
   "cell_type": "markdown",
   "metadata": {},
   "source": [
    "### Step 1 : Covert image to base64"
   ]
  },
  {
   "cell_type": "code",
   "execution_count": 2,
   "metadata": {},
   "outputs": [],
   "source": [
    "import base64\n",
    "\n",
    "# Define a function that convert image to base64 string.\n",
    "def image_to_base64(file_path):\n",
    "    with open(file_path, \"rb\") as image_file:\n",
    "        encoded_string = base64.b64encode(image_file.read())\n",
    "        return encoded_string.decode('utf-8')\n",
    "\n",
    "# Image file path\n",
    "file_path = '../images/logo.png'\n",
    "\n",
    "# Call the function with file path.\n",
    "encoded_image = image_to_base64(file_path)\n",
    "\n",
    "# print(encoded_image)"
   ]
  },
  {
   "cell_type": "markdown",
   "metadata": {},
   "source": [
    "### Step 2 : Call Azure OpenAI API\n",
    "\n",
    "⚠️ Don't foget to config your OpenAI key:\n",
    "Add `AZURE_OPENAI_API_KEY={your_azure_openai_key_here}` to .env file. If it doesn't exist, create one in this project root folder."
   ]
  },
  {
   "cell_type": "code",
   "execution_count": 3,
   "metadata": {},
   "outputs": [
    {
     "name": "stdout",
     "output_type": "stream",
     "text": [
      "The image is showing a logo that reads \"IFBOX\" with a stylized representation of a mobile device or tablet to the left of the text. The device icon has a gradient from purple to blue, and the text is in black.\n"
     ]
    }
   ],
   "source": [
    "from openai import AzureOpenAI\n",
    "from dotenv import load_dotenv\n",
    "import os\n",
    "\n",
    "load_dotenv()\n",
    "\n",
    "client = AzureOpenAI(\n",
    "    # https://learn.microsoft.com/en-us/azure/ai-services/openai/reference#rest-api-versioning\n",
    "    api_version=\"2023-07-01-preview\",\n",
    "    # https://learn.microsoft.com/en-us/azure/cognitive-services/openai/how-to/create-resource?pivots=web-portal#create-a-resource\n",
    "    azure_endpoint=\"https://openai-ifbox-ai.openai.azure.com\",\n",
    "    api_key=os.getenv(\"AZURE_OPENAI_API_KEY\"),\n",
    ")\n",
    "\n",
    "completion = client.chat.completions.create(\n",
    "    model=\"gpt-4-vision-preview\",  # Your deployment name.\n",
    "    messages=[\n",
    "    {\n",
    "      \"role\": \"system\",\n",
    "      \n",
    "      \"content\": \n",
    "      # Edit this system message if needed.\n",
    "      \"\"\"\n",
    "      You are going to help people to describe the image.\n",
    "      You should always in english start with \"the image is showing\"      \n",
    "      \"\"\"\n",
    "    },\n",
    "    {\n",
    "      \"role\": \"user\",\n",
    "      \"content\": [\n",
    "        # {\n",
    "        #   \"type\": \"text\", \n",
    "        #   \"text\": \"What’s in this image?\"\n",
    "        # },\n",
    "        {\n",
    "          \"type\": \"image_url\",\n",
    "\n",
    "          # Using the image url.\n",
    "          # \"image_url\": { \"url\": \"https://ifbox.ai/static/brand.e18dbb5f.png\" },\n",
    "\n",
    "          # Using the base64 encoded image from the file.\n",
    "          \"image_url\": { \"url\": f\"data:image/jpeg;base64,{encoded_image}\" },\n",
    "        },\n",
    "      ],\n",
    "    }\n",
    "  ],\n",
    "  max_tokens=300,\n",
    ")\n",
    "\n",
    "# print(completion.model_dump_json(indent=4))\n",
    "print(completion.choices[0].message.content)"
   ]
  }
 ],
 "metadata": {
  "kernelspec": {
   "display_name": "ai-lab-tools",
   "language": "python",
   "name": "python3"
  },
  "language_info": {
   "codemirror_mode": {
    "name": "ipython",
    "version": 3
   },
   "file_extension": ".py",
   "mimetype": "text/x-python",
   "name": "python",
   "nbconvert_exporter": "python",
   "pygments_lexer": "ipython3",
   "version": "3.12.1"
  }
 },
 "nbformat": 4,
 "nbformat_minor": 2
}
